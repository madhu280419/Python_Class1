{
  "nbformat": 4,
  "nbformat_minor": 0,
  "metadata": {
    "colab": {
      "provenance": [],
      "authorship_tag": "ABX9TyOrFVEGZOs5f67z2Wc9GPHV",
      "include_colab_link": true
    },
    "kernelspec": {
      "name": "python3",
      "display_name": "Python 3"
    },
    "language_info": {
      "name": "python"
    }
  },
  "cells": [
    {
      "cell_type": "markdown",
      "metadata": {
        "id": "view-in-github",
        "colab_type": "text"
      },
      "source": [
        "<a href=\"https://colab.research.google.com/github/madhu280419/Python_Class1/blob/main/dice_program.ipynb\" target=\"_parent\"><img src=\"https://colab.research.google.com/assets/colab-badge.svg\" alt=\"Open In Colab\"/></a>"
      ]
    },
    {
      "cell_type": "code",
      "execution_count": null,
      "metadata": {
        "id": "IXgrDrSzLiuK"
      },
      "outputs": [],
      "source": [
        "import random\n",
        "user_1 = input(\"Enter your username: \")\n",
        "user_2 = input(\"Enter your username: \")\n",
        "count_1 = 0\n",
        "count_2 = 0\n",
        "turn_1 = 0\n",
        "turn_2 = 0\n",
        "while count_1 <= 20 and count_2 <= 20:\n",
        "    input(\"press enter to roll the dice\")\n",
        "    roll_1 = random.randint(1,6)\n",
        "    count_1 += roll_1\n",
        "    turn_1 += 1\n",
        "    print(f\"user {user_1} rolled  {roll_1}. Total count: {count_1} after {turn_1} turns\")\n",
        "    if count_1 >= 20:\n",
        "        print(user_1, \"wins\")\n",
        "        break\n",
        "    input(\"press enter to roll the dice\")\n",
        "    roll_2 = random.randint(1,6)\n",
        "    count_2 += roll_2\n",
        "    turn_2 += 1\n",
        "    print(f\"user {user_2} rolled  {roll_2}. Total count: {count_2} after {turn_2} turns\")\n",
        "    if count_2 >= 20:\n",
        "        print(user_2, \"wins\")\n",
        "        break"
      ]
    }
  ]
}