{
  "nbformat": 4,
  "nbformat_minor": 0,
  "metadata": {
    "colab": {
      "provenance": [],
      "authorship_tag": "ABX9TyPrZ2LDc+SXwRutRwCtXC1X",
      "include_colab_link": true
    },
    "kernelspec": {
      "name": "python3",
      "display_name": "Python 3"
    },
    "language_info": {
      "name": "python"
    }
  },
  "cells": [
    {
      "cell_type": "markdown",
      "metadata": {
        "id": "view-in-github",
        "colab_type": "text"
      },
      "source": [
        "<a href=\"https://colab.research.google.com/github/madhu280419/Python_Class1/blob/main/factorial2.ipynb\" target=\"_parent\"><img src=\"https://colab.research.google.com/assets/colab-badge.svg\" alt=\"Open In Colab\"/></a>"
      ]
    },
    {
      "cell_type": "code",
      "execution_count": 1,
      "metadata": {
        "colab": {
          "base_uri": "https://localhost:8080/"
        },
        "id": "S6FSsCKo14oD",
        "outputId": "3ede72eb-ffc2-4333-af3e-09629fe16ea9"
      },
      "outputs": [
        {
          "output_type": "stream",
          "name": "stdout",
          "text": [
            "enter a number5\n",
            "the factorial of 5 is 120\n"
          ]
        }
      ],
      "source": [
        "num = int(input(\"enter a number\"))\n",
        "factorial = 1\n",
        "if num < 0:\n",
        "  print(\"factorial dont have negative numbers\")\n",
        "elif num == 0:\n",
        "    print(\"factorial of 0 is 1\")\n",
        "else:\n",
        "    for i in range(1, num+1):\n",
        "        factorial = factorial*i\n",
        "    print(\"the factorial of\",num,\"is\",factorial)"
      ]
    }
  ]
}