{
  "nbformat": 4,
  "nbformat_minor": 0,
  "metadata": {
    "colab": {
      "provenance": [],
      "authorship_tag": "ABX9TyPvJ8CpnhQreRLosaIFmTbV",
      "include_colab_link": true
    },
    "kernelspec": {
      "name": "python3",
      "display_name": "Python 3"
    },
    "language_info": {
      "name": "python"
    }
  },
  "cells": [
    {
      "cell_type": "markdown",
      "metadata": {
        "id": "view-in-github",
        "colab_type": "text"
      },
      "source": [
        "<a href=\"https://colab.research.google.com/github/madhu280419/Python_Class1/blob/main/03042025.ipynb\" target=\"_parent\"><img src=\"https://colab.research.google.com/assets/colab-badge.svg\" alt=\"Open In Colab\"/></a>"
      ]
    },
    {
      "cell_type": "code",
      "execution_count": null,
      "metadata": {
        "colab": {
          "base_uri": "https://localhost:8080/"
        },
        "id": "D4-OkdLrnUa6",
        "outputId": "f7b039d4-5de2-45dd-ca78-de5590c76777"
      },
      "outputs": [
        {
          "output_type": "stream",
          "name": "stdout",
          "text": [
            "sum of the total 175.5\n"
          ]
        }
      ],
      "source": [
        "#sum items in list\n",
        "numbers = [10,20,25.5,30,40,50]\n",
        "total = sum(numbers)\n",
        "print(\"sum of the total\",total)"
      ]
    },
    {
      "cell_type": "code",
      "source": [
        "#multiply all items in list\n",
        "numbers = [5,6,7,8]\n",
        "result = 1\n",
        "for num in numbers:\n",
        "    result = result * num\n",
        "print(\"sum of the total\", result)"
      ],
      "metadata": {
        "colab": {
          "base_uri": "https://localhost:8080/"
        },
        "id": "-SKbc61eoSBx",
        "outputId": "b264a63c-031e-4fc3-e568-2a8914378bc7"
      },
      "execution_count": null,
      "outputs": [
        {
          "output_type": "stream",
          "name": "stdout",
          "text": [
            "sum of the total 1680\n"
          ]
        }
      ]
    },
    {
      "cell_type": "code",
      "source": [
        "#get large number in the list\n",
        "numbers =[10,25,82,76,65,43,99,51]\n",
        "larg_numb = max(numbers)\n",
        "print(\"largest number in the list:\",larg_numb)"
      ],
      "metadata": {
        "colab": {
          "base_uri": "https://localhost:8080/"
        },
        "id": "vGh0O9Jip18n",
        "outputId": "0f98b66e-0371-4576-cd7c-d03ff75f3e34"
      },
      "execution_count": null,
      "outputs": [
        {
          "output_type": "stream",
          "name": "stdout",
          "text": [
            "largest number in the list: 99\n"
          ]
        }
      ]
    },
    {
      "cell_type": "code",
      "source": [
        "#get smallest number in the list\n",
        "numbers =[23,55,76,92,7.5,87,65]\n",
        "small_numb = min(numbers)\n",
        "print(\"smallest number in the list:\",small_numb)"
      ],
      "metadata": {
        "colab": {
          "base_uri": "https://localhost:8080/"
        },
        "id": "dvOnJCy8rqlj",
        "outputId": "63e98949-6d96-4f9d-fe20-b05109ad2e07"
      },
      "execution_count": null,
      "outputs": [
        {
          "output_type": "stream",
          "name": "stdout",
          "text": [
            "smallest number in the list: 7.5\n"
          ]
        }
      ]
    },
    {
      "cell_type": "code",
      "source": [
        "#count strings with same start and end\n",
        "words = ['abc','xyz','aba','1221']\n",
        "count = 0\n",
        "for word in words:\n",
        "  if(len(word)) >= 2 and word[0] == word[-1]:\n",
        "    count += 1\n",
        "print(count)"
      ],
      "metadata": {
        "id": "gCxUl9uGsUj7",
        "colab": {
          "base_uri": "https://localhost:8080/"
        },
        "outputId": "f1b0cf7c-8645-476a-c895-3d7a4ad7e20b"
      },
      "execution_count": 17,
      "outputs": [
        {
          "output_type": "stream",
          "name": "stdout",
          "text": [
            "2\n"
          ]
        }
      ]
    }
  ]
}