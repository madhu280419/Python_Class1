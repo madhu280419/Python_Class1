{
  "nbformat": 4,
  "nbformat_minor": 0,
  "metadata": {
    "colab": {
      "provenance": [],
      "authorship_tag": "ABX9TyOYBqOmBS4pGksyNN6mj7i3",
      "include_colab_link": true
    },
    "kernelspec": {
      "name": "python3",
      "display_name": "Python 3"
    },
    "language_info": {
      "name": "python"
    }
  },
  "cells": [
    {
      "cell_type": "markdown",
      "metadata": {
        "id": "view-in-github",
        "colab_type": "text"
      },
      "source": [
        "<a href=\"https://colab.research.google.com/github/madhu280419/Python_Class1/blob/main/prime_numbers.ipynb\" target=\"_parent\"><img src=\"https://colab.research.google.com/assets/colab-badge.svg\" alt=\"Open In Colab\"/></a>"
      ]
    },
    {
      "cell_type": "code",
      "source": [
        "n = int (input(\"enter number\"))\n",
        "for i in range(2,n):\n",
        "    if n % i != 0:\n",
        "        print(\"number is prime\")\n",
        "        break\n",
        "    else:\n",
        "        print(\"not prime number\")"
      ],
      "metadata": {
        "colab": {
          "base_uri": "https://localhost:8080/"
        },
        "id": "cNgdJJA3Bh8E",
        "outputId": "4db5ad42-56d9-4762-a08f-44f114a83704"
      },
      "execution_count": 5,
      "outputs": [
        {
          "output_type": "stream",
          "name": "stdout",
          "text": [
            "enter number7\n",
            "number is prime\n"
          ]
        }
      ]
    }
  ]
}